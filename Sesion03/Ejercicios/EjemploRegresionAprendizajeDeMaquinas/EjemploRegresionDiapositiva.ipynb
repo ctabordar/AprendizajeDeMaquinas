{
 "cells": [
  {
   "cell_type": "markdown",
   "metadata": {},
   "source": [
    "## Paquetes"
   ]
  },
  {
   "cell_type": "code",
   "execution_count": 1,
   "metadata": {},
   "outputs": [],
   "source": [
    "import matplotlib.pyplot as plt\n",
    "import numpy as np\n",
    "import pandas as pd\n",
    "from sklearn.model_selection import train_test_split\n",
    "from sklearn.model_selection import cross_val_score\n",
    "from sklearn.model_selection import KFold\n",
    "from sklearn.pipeline import Pipeline\n",
    "from sklearn.preprocessing import MinMaxScaler\n",
    "from tensorflow.python.keras.models import Sequential\n",
    "from tensorflow.python.keras.layers import Dense\n",
    "from tensorflow.python.keras.wrappers.scikit_learn import KerasRegressor"
   ]
  },
  {
   "cell_type": "markdown",
   "metadata": {},
   "source": [
    "## Modelo"
   ]
  },
  {
   "cell_type": "markdown",
   "metadata": {},
   "source": [
    "Se lee el archivo CSV con todos los datos. Para esto, se utiliza la función loadtxt del paquete NumPY.  \n",
    "Luego se separan las filas en dos listas con el fin de tener las variables separadas de la variable objetivo.  \n",
    "Por último se realiza un escalado de datos."
   ]
  },
  {
   "cell_type": "code",
   "execution_count": 4,
   "metadata": {
    "scrolled": true
   },
   "outputs": [
    {
     "name": "stdout",
     "output_type": "stream",
     "text": [
      "MinMaxScaler()\n",
      "MinMaxScaler()\n"
     ]
    }
   ],
   "source": [
    "# Lectura\n",
    "dataset=np.loadtxt(\"cars.csv\", delimiter=\",\", skiprows=1)\n",
    "\n",
    "# Separación\n",
    "x=dataset[:,0:5]\n",
    "y=dataset[:,5]\n",
    "y=np.reshape(y, (-1,1))\n",
    "\n",
    "scaler_x = MinMaxScaler()\n",
    "scaler_y = MinMaxScaler()\n",
    "\n",
    "scaler_x.fit(x)\n",
    "xscale=scaler_x.transform(x)\n",
    "scaler_y.fit(y)\n",
    "yscale=scaler_y.transform(y)"
   ]
  },
  {
   "cell_type": "markdown",
   "metadata": {},
   "source": [
    "Luego, se separan los datos en datos de entrenamiento y datos de testeo"
   ]
  },
  {
   "cell_type": "code",
   "execution_count": 5,
   "metadata": {},
   "outputs": [],
   "source": [
    "X_train, X_test, y_train, y_test = train_test_split(xscale, yscale)"
   ]
  },
  {
   "cell_type": "markdown",
   "metadata": {},
   "source": [
    "Se crea un modelo de red neuronal muy básico que consiste de:\n",
    "    * Una capa de 12 neuronas con función de activación ReLU\n",
    "    * Una capa de 8 neuronas con función de activación ReLU\n",
    "    * Una capa de 1 neurona con función de activación Linear (Es decir, sin activación)"
   ]
  },
  {
   "cell_type": "code",
   "execution_count": 6,
   "metadata": {
    "scrolled": true
   },
   "outputs": [
    {
     "name": "stdout",
     "output_type": "stream",
     "text": [
      "Model: \"sequential\"\n",
      "_________________________________________________________________\n",
      "Layer (type)                 Output Shape              Param #   \n",
      "=================================================================\n",
      "dense (Dense)                (None, 12)                72        \n",
      "_________________________________________________________________\n",
      "dense_1 (Dense)              (None, 8)                 104       \n",
      "_________________________________________________________________\n",
      "dense_2 (Dense)              (None, 1)                 9         \n",
      "=================================================================\n",
      "Total params: 185\n",
      "Trainable params: 185\n",
      "Non-trainable params: 0\n",
      "_________________________________________________________________\n"
     ]
    }
   ],
   "source": [
    "model [(5), 12, 8, 1]\n",
    "\n",
    "model = Sequential()\n",
    "model.add(Dense(12, input_dim=5, kernel_initializer='normal', activation='relu'))\n",
    "model.add(Dense(8, activation='relu'))\n",
    "model.add(Dense(1, activation='linear'))\n",
    "model.summary()"
   ]
  },
  {
   "cell_type": "markdown",
   "metadata": {},
   "source": [
    "Se compila el modelo para poder ser entrenado"
   ]
  },
  {
   "cell_type": "code",
   "execution_count": 7,
   "metadata": {},
   "outputs": [],
   "source": [
    "model.compile(loss='mse', optimizer='adam', metrics=['mse','mae'])"
   ]
  },
  {
   "cell_type": "markdown",
   "metadata": {},
   "source": [
    "Por último, se entrena el modelo con los parametros elegidos"
   ]
  },
  {
   "cell_type": "code",
   "execution_count": 8,
   "metadata": {
    "scrolled": true
   },
   "outputs": [
    {
     "name": "stdout",
     "output_type": "stream",
     "text": [
      "Epoch 1/150\n",
      "12/12 [==============================] - 0s 13ms/step - loss: 0.1769 - mse: 0.1769 - mae: 0.3127 - val_loss: 0.1304 - val_mse: 0.1304 - val_mae: 0.2663\n",
      "Epoch 2/150\n",
      "12/12 [==============================] - 0s 2ms/step - loss: 0.1014 - mse: 0.1014 - mae: 0.2382 - val_loss: 0.0789 - val_mse: 0.0789 - val_mae: 0.2228\n",
      "Epoch 3/150\n",
      "12/12 [==============================] - 0s 3ms/step - loss: 0.0687 - mse: 0.0687 - mae: 0.2156 - val_loss: 0.0586 - val_mse: 0.0586 - val_mae: 0.2088\n",
      "Epoch 4/150\n",
      "12/12 [==============================] - 0s 3ms/step - loss: 0.0580 - mse: 0.0580 - mae: 0.2086 - val_loss: 0.0528 - val_mse: 0.0528 - val_mae: 0.2025\n",
      "Epoch 5/150\n",
      "12/12 [==============================] - 0s 2ms/step - loss: 0.0541 - mse: 0.0541 - mae: 0.2037 - val_loss: 0.0493 - val_mse: 0.0493 - val_mae: 0.1953\n",
      "Epoch 6/150\n",
      "12/12 [==============================] - 0s 2ms/step - loss: 0.0494 - mse: 0.0494 - mae: 0.1946 - val_loss: 0.0462 - val_mse: 0.0462 - val_mae: 0.1873\n",
      "Epoch 7/150\n",
      "12/12 [==============================] - 0s 3ms/step - loss: 0.0448 - mse: 0.0448 - mae: 0.1851 - val_loss: 0.0432 - val_mse: 0.0432 - val_mae: 0.1798\n",
      "Epoch 8/150\n",
      "12/12 [==============================] - 0s 3ms/step - loss: 0.0410 - mse: 0.0410 - mae: 0.1764 - val_loss: 0.0402 - val_mse: 0.0402 - val_mae: 0.1718\n",
      "Epoch 9/150\n",
      "12/12 [==============================] - 0s 3ms/step - loss: 0.0372 - mse: 0.0372 - mae: 0.1676 - val_loss: 0.0373 - val_mse: 0.0373 - val_mae: 0.1640\n",
      "Epoch 10/150\n",
      "12/12 [==============================] - 0s 3ms/step - loss: 0.0335 - mse: 0.0335 - mae: 0.1584 - val_loss: 0.0347 - val_mse: 0.0347 - val_mae: 0.1569\n",
      "Epoch 11/150\n",
      "12/12 [==============================] - 0s 2ms/step - loss: 0.0303 - mse: 0.0303 - mae: 0.1495 - val_loss: 0.0321 - val_mse: 0.0321 - val_mae: 0.1492\n",
      "Epoch 12/150\n",
      "12/12 [==============================] - 0s 3ms/step - loss: 0.0270 - mse: 0.0270 - mae: 0.1399 - val_loss: 0.0298 - val_mse: 0.0298 - val_mae: 0.1416\n",
      "Epoch 13/150\n",
      "12/12 [==============================] - 0s 3ms/step - loss: 0.0240 - mse: 0.0240 - mae: 0.1304 - val_loss: 0.0278 - val_mse: 0.0278 - val_mae: 0.1343\n",
      "Epoch 14/150\n",
      "12/12 [==============================] - 0s 3ms/step - loss: 0.0216 - mse: 0.0216 - mae: 0.1223 - val_loss: 0.0260 - val_mse: 0.0260 - val_mae: 0.1274\n",
      "Epoch 15/150\n",
      "12/12 [==============================] - 0s 3ms/step - loss: 0.0194 - mse: 0.0194 - mae: 0.1141 - val_loss: 0.0239 - val_mse: 0.0239 - val_mae: 0.1188\n",
      "Epoch 16/150\n",
      "12/12 [==============================] - 0s 3ms/step - loss: 0.0174 - mse: 0.0174 - mae: 0.1054 - val_loss: 0.0227 - val_mse: 0.0227 - val_mae: 0.1117\n",
      "Epoch 17/150\n",
      "12/12 [==============================] - 0s 3ms/step - loss: 0.0162 - mse: 0.0162 - mae: 0.1010 - val_loss: 0.0220 - val_mse: 0.0220 - val_mae: 0.1089\n",
      "Epoch 18/150\n",
      "12/12 [==============================] - 0s 3ms/step - loss: 0.0153 - mse: 0.0153 - mae: 0.0964 - val_loss: 0.0220 - val_mse: 0.0220 - val_mae: 0.1068\n",
      "Epoch 19/150\n",
      "12/12 [==============================] - 0s 3ms/step - loss: 0.0151 - mse: 0.0151 - mae: 0.0932 - val_loss: 0.0220 - val_mse: 0.0220 - val_mae: 0.1063\n",
      "Epoch 20/150\n",
      "12/12 [==============================] - 0s 3ms/step - loss: 0.0149 - mse: 0.0149 - mae: 0.0926 - val_loss: 0.0219 - val_mse: 0.0219 - val_mae: 0.1061\n",
      "Epoch 21/150\n",
      "12/12 [==============================] - 0s 3ms/step - loss: 0.0149 - mse: 0.0149 - mae: 0.0940 - val_loss: 0.0218 - val_mse: 0.0218 - val_mae: 0.1058\n",
      "Epoch 22/150\n",
      "12/12 [==============================] - 0s 3ms/step - loss: 0.0147 - mse: 0.0147 - mae: 0.0921 - val_loss: 0.0219 - val_mse: 0.0219 - val_mae: 0.1054\n",
      "Epoch 23/150\n",
      "12/12 [==============================] - 0s 3ms/step - loss: 0.0146 - mse: 0.0146 - mae: 0.0923 - val_loss: 0.0217 - val_mse: 0.0217 - val_mae: 0.1054\n",
      "Epoch 24/150\n",
      "12/12 [==============================] - 0s 3ms/step - loss: 0.0145 - mse: 0.0145 - mae: 0.0922 - val_loss: 0.0218 - val_mse: 0.0218 - val_mae: 0.1053\n",
      "Epoch 25/150\n",
      "12/12 [==============================] - 0s 3ms/step - loss: 0.0145 - mse: 0.0145 - mae: 0.0912 - val_loss: 0.0217 - val_mse: 0.0217 - val_mae: 0.1051\n",
      "Epoch 26/150\n",
      "12/12 [==============================] - 0s 2ms/step - loss: 0.0144 - mse: 0.0144 - mae: 0.0919 - val_loss: 0.0217 - val_mse: 0.0217 - val_mae: 0.1053\n",
      "Epoch 27/150\n",
      "12/12 [==============================] - 0s 3ms/step - loss: 0.0144 - mse: 0.0144 - mae: 0.0913 - val_loss: 0.0216 - val_mse: 0.0216 - val_mae: 0.1047\n",
      "Epoch 28/150\n",
      "12/12 [==============================] - 0s 2ms/step - loss: 0.0142 - mse: 0.0142 - mae: 0.0911 - val_loss: 0.0215 - val_mse: 0.0215 - val_mae: 0.1046\n",
      "Epoch 29/150\n",
      "12/12 [==============================] - 0s 3ms/step - loss: 0.0141 - mse: 0.0141 - mae: 0.0905 - val_loss: 0.0216 - val_mse: 0.0216 - val_mae: 0.1043\n",
      "Epoch 30/150\n",
      "12/12 [==============================] - 0s 3ms/step - loss: 0.0140 - mse: 0.0140 - mae: 0.0901 - val_loss: 0.0215 - val_mse: 0.0215 - val_mae: 0.1042\n",
      "Epoch 31/150\n",
      "12/12 [==============================] - 0s 2ms/step - loss: 0.0139 - mse: 0.0139 - mae: 0.0898 - val_loss: 0.0215 - val_mse: 0.0215 - val_mae: 0.1041\n",
      "Epoch 32/150\n",
      "12/12 [==============================] - 0s 3ms/step - loss: 0.0139 - mse: 0.0139 - mae: 0.0895 - val_loss: 0.0214 - val_mse: 0.0214 - val_mae: 0.1039\n",
      "Epoch 33/150\n",
      "12/12 [==============================] - 0s 3ms/step - loss: 0.0138 - mse: 0.0138 - mae: 0.0894 - val_loss: 0.0214 - val_mse: 0.0214 - val_mae: 0.1040\n",
      "Epoch 34/150\n",
      "12/12 [==============================] - 0s 2ms/step - loss: 0.0138 - mse: 0.0138 - mae: 0.0889 - val_loss: 0.0214 - val_mse: 0.0214 - val_mae: 0.1034\n",
      "Epoch 35/150\n",
      "12/12 [==============================] - 0s 3ms/step - loss: 0.0137 - mse: 0.0137 - mae: 0.0893 - val_loss: 0.0213 - val_mse: 0.0213 - val_mae: 0.1033\n",
      "Epoch 36/150\n",
      "12/12 [==============================] - 0s 3ms/step - loss: 0.0136 - mse: 0.0136 - mae: 0.0885 - val_loss: 0.0213 - val_mse: 0.0213 - val_mae: 0.1031\n",
      "Epoch 37/150\n",
      "12/12 [==============================] - 0s 3ms/step - loss: 0.0136 - mse: 0.0136 - mae: 0.0881 - val_loss: 0.0211 - val_mse: 0.0211 - val_mae: 0.1032\n",
      "Epoch 38/150\n",
      "12/12 [==============================] - 0s 3ms/step - loss: 0.0135 - mse: 0.0135 - mae: 0.0885 - val_loss: 0.0211 - val_mse: 0.0211 - val_mae: 0.1027\n",
      "Epoch 39/150\n",
      "12/12 [==============================] - 0s 3ms/step - loss: 0.0134 - mse: 0.0134 - mae: 0.0878 - val_loss: 0.0212 - val_mse: 0.0212 - val_mae: 0.1025\n",
      "Epoch 40/150\n",
      "12/12 [==============================] - 0s 3ms/step - loss: 0.0134 - mse: 0.0134 - mae: 0.0875 - val_loss: 0.0211 - val_mse: 0.0211 - val_mae: 0.1024\n",
      "Epoch 41/150\n",
      "12/12 [==============================] - 0s 3ms/step - loss: 0.0134 - mse: 0.0134 - mae: 0.0875 - val_loss: 0.0211 - val_mse: 0.0211 - val_mae: 0.1024\n",
      "Epoch 42/150\n",
      "12/12 [==============================] - 0s 3ms/step - loss: 0.0133 - mse: 0.0133 - mae: 0.0876 - val_loss: 0.0211 - val_mse: 0.0211 - val_mae: 0.1017\n",
      "Epoch 43/150\n",
      "12/12 [==============================] - 0s 3ms/step - loss: 0.0132 - mse: 0.0132 - mae: 0.0868 - val_loss: 0.0210 - val_mse: 0.0210 - val_mae: 0.1013\n",
      "Epoch 44/150\n",
      "12/12 [==============================] - 0s 2ms/step - loss: 0.0133 - mse: 0.0133 - mae: 0.0873 - val_loss: 0.0210 - val_mse: 0.0210 - val_mae: 0.1010\n",
      "Epoch 45/150\n",
      "12/12 [==============================] - 0s 3ms/step - loss: 0.0132 - mse: 0.0132 - mae: 0.0863 - val_loss: 0.0209 - val_mse: 0.0209 - val_mae: 0.1008\n",
      "Epoch 46/150\n",
      "12/12 [==============================] - 0s 3ms/step - loss: 0.0132 - mse: 0.0132 - mae: 0.0865 - val_loss: 0.0210 - val_mse: 0.0210 - val_mae: 0.1006\n",
      "Epoch 47/150\n",
      "12/12 [==============================] - 0s 3ms/step - loss: 0.0131 - mse: 0.0131 - mae: 0.0870 - val_loss: 0.0208 - val_mse: 0.0208 - val_mae: 0.1006\n",
      "Epoch 48/150\n",
      "12/12 [==============================] - 0s 3ms/step - loss: 0.0130 - mse: 0.0130 - mae: 0.0860 - val_loss: 0.0211 - val_mse: 0.0211 - val_mae: 0.1002\n",
      "Epoch 49/150\n",
      "12/12 [==============================] - 0s 3ms/step - loss: 0.0131 - mse: 0.0131 - mae: 0.0857 - val_loss: 0.0207 - val_mse: 0.0207 - val_mae: 0.1006\n",
      "Epoch 50/150\n",
      "12/12 [==============================] - 0s 3ms/step - loss: 0.0131 - mse: 0.0131 - mae: 0.0869 - val_loss: 0.0209 - val_mse: 0.0209 - val_mae: 0.0997\n",
      "Epoch 51/150\n"
     ]
    },
    {
     "name": "stdout",
     "output_type": "stream",
     "text": [
      "12/12 [==============================] - 0s 3ms/step - loss: 0.0129 - mse: 0.0129 - mae: 0.0861 - val_loss: 0.0207 - val_mse: 0.0207 - val_mae: 0.0999\n",
      "Epoch 52/150\n",
      "12/12 [==============================] - 0s 9ms/step - loss: 0.0129 - mse: 0.0129 - mae: 0.0853 - val_loss: 0.0209 - val_mse: 0.0209 - val_mae: 0.0996\n",
      "Epoch 53/150\n",
      "12/12 [==============================] - 0s 2ms/step - loss: 0.0128 - mse: 0.0128 - mae: 0.0851 - val_loss: 0.0206 - val_mse: 0.0206 - val_mae: 0.1000\n",
      "Epoch 54/150\n",
      "12/12 [==============================] - 0s 2ms/step - loss: 0.0128 - mse: 0.0128 - mae: 0.0860 - val_loss: 0.0208 - val_mse: 0.0208 - val_mae: 0.0994\n",
      "Epoch 55/150\n",
      "12/12 [==============================] - 0s 2ms/step - loss: 0.0128 - mse: 0.0128 - mae: 0.0851 - val_loss: 0.0205 - val_mse: 0.0205 - val_mae: 0.0996\n",
      "Epoch 56/150\n",
      "12/12 [==============================] - 0s 2ms/step - loss: 0.0128 - mse: 0.0128 - mae: 0.0851 - val_loss: 0.0208 - val_mse: 0.0208 - val_mae: 0.0990\n",
      "Epoch 57/150\n",
      "12/12 [==============================] - 0s 3ms/step - loss: 0.0128 - mse: 0.0128 - mae: 0.0855 - val_loss: 0.0206 - val_mse: 0.0206 - val_mae: 0.0991\n",
      "Epoch 58/150\n",
      "12/12 [==============================] - 0s 2ms/step - loss: 0.0127 - mse: 0.0127 - mae: 0.0842 - val_loss: 0.0205 - val_mse: 0.0205 - val_mae: 0.0992\n",
      "Epoch 59/150\n",
      "12/12 [==============================] - 0s 2ms/step - loss: 0.0127 - mse: 0.0127 - mae: 0.0850 - val_loss: 0.0206 - val_mse: 0.0206 - val_mae: 0.0993\n",
      "Epoch 60/150\n",
      "12/12 [==============================] - 0s 3ms/step - loss: 0.0127 - mse: 0.0127 - mae: 0.0854 - val_loss: 0.0207 - val_mse: 0.0207 - val_mae: 0.0984\n",
      "Epoch 61/150\n",
      "12/12 [==============================] - 0s 3ms/step - loss: 0.0129 - mse: 0.0129 - mae: 0.0852 - val_loss: 0.0203 - val_mse: 0.0203 - val_mae: 0.0992\n",
      "Epoch 62/150\n",
      "12/12 [==============================] - 0s 3ms/step - loss: 0.0125 - mse: 0.0125 - mae: 0.0840 - val_loss: 0.0207 - val_mse: 0.0207 - val_mae: 0.0984\n",
      "Epoch 63/150\n",
      "12/12 [==============================] - 0s 3ms/step - loss: 0.0129 - mse: 0.0129 - mae: 0.0865 - val_loss: 0.0207 - val_mse: 0.0207 - val_mae: 0.0985\n",
      "Epoch 64/150\n",
      "12/12 [==============================] - 0s 3ms/step - loss: 0.0127 - mse: 0.0127 - mae: 0.0838 - val_loss: 0.0204 - val_mse: 0.0204 - val_mae: 0.0986\n",
      "Epoch 65/150\n",
      "12/12 [==============================] - 0s 3ms/step - loss: 0.0125 - mse: 0.0125 - mae: 0.0843 - val_loss: 0.0202 - val_mse: 0.0202 - val_mae: 0.0986\n",
      "Epoch 66/150\n",
      "12/12 [==============================] - 0s 3ms/step - loss: 0.0124 - mse: 0.0124 - mae: 0.0845 - val_loss: 0.0205 - val_mse: 0.0205 - val_mae: 0.0984\n",
      "Epoch 67/150\n",
      "12/12 [==============================] - 0s 3ms/step - loss: 0.0126 - mse: 0.0126 - mae: 0.0834 - val_loss: 0.0204 - val_mse: 0.0204 - val_mae: 0.0993\n",
      "Epoch 68/150\n",
      "12/12 [==============================] - 0s 3ms/step - loss: 0.0125 - mse: 0.0125 - mae: 0.0846 - val_loss: 0.0203 - val_mse: 0.0203 - val_mae: 0.0981\n",
      "Epoch 69/150\n",
      "12/12 [==============================] - 0s 3ms/step - loss: 0.0124 - mse: 0.0124 - mae: 0.0838 - val_loss: 0.0204 - val_mse: 0.0204 - val_mae: 0.0978\n",
      "Epoch 70/150\n",
      "12/12 [==============================] - 0s 3ms/step - loss: 0.0123 - mse: 0.0123 - mae: 0.0838 - val_loss: 0.0204 - val_mse: 0.0204 - val_mae: 0.0977\n",
      "Epoch 71/150\n",
      "12/12 [==============================] - 0s 3ms/step - loss: 0.0123 - mse: 0.0123 - mae: 0.0830 - val_loss: 0.0201 - val_mse: 0.0201 - val_mae: 0.0980\n",
      "Epoch 72/150\n",
      "12/12 [==============================] - 0s 3ms/step - loss: 0.0123 - mse: 0.0123 - mae: 0.0840 - val_loss: 0.0202 - val_mse: 0.0202 - val_mae: 0.0974\n",
      "Epoch 73/150\n",
      "12/12 [==============================] - 0s 3ms/step - loss: 0.0123 - mse: 0.0123 - mae: 0.0831 - val_loss: 0.0201 - val_mse: 0.0201 - val_mae: 0.0982\n",
      "Epoch 74/150\n",
      "12/12 [==============================] - 0s 3ms/step - loss: 0.0123 - mse: 0.0123 - mae: 0.0833 - val_loss: 0.0202 - val_mse: 0.0202 - val_mae: 0.0972\n",
      "Epoch 75/150\n",
      "12/12 [==============================] - 0s 3ms/step - loss: 0.0123 - mse: 0.0123 - mae: 0.0841 - val_loss: 0.0202 - val_mse: 0.0202 - val_mae: 0.0975\n",
      "Epoch 76/150\n",
      "12/12 [==============================] - 0s 3ms/step - loss: 0.0123 - mse: 0.0123 - mae: 0.0839 - val_loss: 0.0205 - val_mse: 0.0205 - val_mae: 0.0974\n",
      "Epoch 77/150\n",
      "12/12 [==============================] - 0s 2ms/step - loss: 0.0122 - mse: 0.0122 - mae: 0.0825 - val_loss: 0.0201 - val_mse: 0.0201 - val_mae: 0.0972\n",
      "Epoch 78/150\n",
      "12/12 [==============================] - 0s 2ms/step - loss: 0.0122 - mse: 0.0122 - mae: 0.0834 - val_loss: 0.0202 - val_mse: 0.0202 - val_mae: 0.0969\n",
      "Epoch 79/150\n",
      "12/12 [==============================] - 0s 3ms/step - loss: 0.0121 - mse: 0.0121 - mae: 0.0823 - val_loss: 0.0200 - val_mse: 0.0200 - val_mae: 0.0971\n",
      "Epoch 80/150\n",
      "12/12 [==============================] - 0s 3ms/step - loss: 0.0121 - mse: 0.0121 - mae: 0.0822 - val_loss: 0.0201 - val_mse: 0.0201 - val_mae: 0.0974\n",
      "Epoch 81/150\n",
      "12/12 [==============================] - 0s 3ms/step - loss: 0.0121 - mse: 0.0121 - mae: 0.0829 - val_loss: 0.0200 - val_mse: 0.0200 - val_mae: 0.0970\n",
      "Epoch 82/150\n",
      "12/12 [==============================] - 0s 3ms/step - loss: 0.0120 - mse: 0.0120 - mae: 0.0820 - val_loss: 0.0200 - val_mse: 0.0200 - val_mae: 0.0972\n",
      "Epoch 83/150\n",
      "12/12 [==============================] - 0s 3ms/step - loss: 0.0120 - mse: 0.0120 - mae: 0.0819 - val_loss: 0.0200 - val_mse: 0.0200 - val_mae: 0.0971\n",
      "Epoch 84/150\n",
      "12/12 [==============================] - 0s 3ms/step - loss: 0.0121 - mse: 0.0121 - mae: 0.0835 - val_loss: 0.0202 - val_mse: 0.0202 - val_mae: 0.0965\n",
      "Epoch 85/150\n",
      "12/12 [==============================] - 0s 3ms/step - loss: 0.0121 - mse: 0.0121 - mae: 0.0815 - val_loss: 0.0199 - val_mse: 0.0199 - val_mae: 0.0978\n",
      "Epoch 86/150\n",
      "12/12 [==============================] - 0s 2ms/step - loss: 0.0120 - mse: 0.0120 - mae: 0.0831 - val_loss: 0.0203 - val_mse: 0.0203 - val_mae: 0.0965\n",
      "Epoch 87/150\n",
      "12/12 [==============================] - 0s 3ms/step - loss: 0.0120 - mse: 0.0120 - mae: 0.0818 - val_loss: 0.0197 - val_mse: 0.0197 - val_mae: 0.0974\n",
      "Epoch 88/150\n",
      "12/12 [==============================] - 0s 3ms/step - loss: 0.0122 - mse: 0.0122 - mae: 0.0826 - val_loss: 0.0198 - val_mse: 0.0198 - val_mae: 0.0968\n",
      "Epoch 89/150\n",
      "12/12 [==============================] - 0s 3ms/step - loss: 0.0120 - mse: 0.0120 - mae: 0.0829 - val_loss: 0.0199 - val_mse: 0.0199 - val_mae: 0.0963\n",
      "Epoch 90/150\n",
      "12/12 [==============================] - 0s 3ms/step - loss: 0.0119 - mse: 0.0119 - mae: 0.0814 - val_loss: 0.0199 - val_mse: 0.0199 - val_mae: 0.0963\n",
      "Epoch 91/150\n",
      "12/12 [==============================] - 0s 3ms/step - loss: 0.0118 - mse: 0.0118 - mae: 0.0814 - val_loss: 0.0200 - val_mse: 0.0200 - val_mae: 0.0964\n",
      "Epoch 92/150\n",
      "12/12 [==============================] - 0s 3ms/step - loss: 0.0119 - mse: 0.0119 - mae: 0.0822 - val_loss: 0.0199 - val_mse: 0.0199 - val_mae: 0.0965\n",
      "Epoch 93/150\n",
      "12/12 [==============================] - 0s 3ms/step - loss: 0.0118 - mse: 0.0118 - mae: 0.0809 - val_loss: 0.0198 - val_mse: 0.0198 - val_mae: 0.0963\n",
      "Epoch 94/150\n",
      "12/12 [==============================] - 0s 3ms/step - loss: 0.0119 - mse: 0.0119 - mae: 0.0820 - val_loss: 0.0202 - val_mse: 0.0202 - val_mae: 0.0957\n",
      "Epoch 95/150\n",
      "12/12 [==============================] - 0s 3ms/step - loss: 0.0120 - mse: 0.0120 - mae: 0.0820 - val_loss: 0.0198 - val_mse: 0.0198 - val_mae: 0.0961\n",
      "Epoch 96/150\n",
      "12/12 [==============================] - 0s 3ms/step - loss: 0.0118 - mse: 0.0118 - mae: 0.0813 - val_loss: 0.0198 - val_mse: 0.0198 - val_mae: 0.0958\n",
      "Epoch 97/150\n",
      "12/12 [==============================] - 0s 3ms/step - loss: 0.0118 - mse: 0.0118 - mae: 0.0814 - val_loss: 0.0197 - val_mse: 0.0197 - val_mae: 0.0960\n",
      "Epoch 98/150\n",
      "12/12 [==============================] - 0s 3ms/step - loss: 0.0118 - mse: 0.0118 - mae: 0.0808 - val_loss: 0.0196 - val_mse: 0.0196 - val_mae: 0.0966\n",
      "Epoch 99/150\n",
      "12/12 [==============================] - 0s 3ms/step - loss: 0.0118 - mse: 0.0118 - mae: 0.0814 - val_loss: 0.0200 - val_mse: 0.0200 - val_mae: 0.0959\n",
      "Epoch 100/150\n",
      "12/12 [==============================] - 0s 3ms/step - loss: 0.0117 - mse: 0.0117 - mae: 0.0807 - val_loss: 0.0198 - val_mse: 0.0198 - val_mae: 0.0962\n",
      "Epoch 101/150\n"
     ]
    },
    {
     "name": "stdout",
     "output_type": "stream",
     "text": [
      "12/12 [==============================] - 0s 3ms/step - loss: 0.0117 - mse: 0.0117 - mae: 0.0802 - val_loss: 0.0196 - val_mse: 0.0196 - val_mae: 0.0956\n",
      "Epoch 102/150\n",
      "12/12 [==============================] - 0s 3ms/step - loss: 0.0120 - mse: 0.0120 - mae: 0.0825 - val_loss: 0.0201 - val_mse: 0.0201 - val_mae: 0.0950\n",
      "Epoch 103/150\n",
      "12/12 [==============================] - 0s 3ms/step - loss: 0.0117 - mse: 0.0117 - mae: 0.0804 - val_loss: 0.0195 - val_mse: 0.0195 - val_mae: 0.0971\n",
      "Epoch 104/150\n",
      "12/12 [==============================] - 0s 3ms/step - loss: 0.0118 - mse: 0.0118 - mae: 0.0819 - val_loss: 0.0201 - val_mse: 0.0201 - val_mae: 0.0953\n",
      "Epoch 105/150\n",
      "12/12 [==============================] - 0s 3ms/step - loss: 0.0117 - mse: 0.0117 - mae: 0.0806 - val_loss: 0.0196 - val_mse: 0.0196 - val_mae: 0.0955\n",
      "Epoch 106/150\n",
      "12/12 [==============================] - 0s 3ms/step - loss: 0.0116 - mse: 0.0116 - mae: 0.0804 - val_loss: 0.0195 - val_mse: 0.0195 - val_mae: 0.0950\n",
      "Epoch 107/150\n",
      "12/12 [==============================] - 0s 3ms/step - loss: 0.0118 - mse: 0.0118 - mae: 0.0813 - val_loss: 0.0193 - val_mse: 0.0193 - val_mae: 0.0967\n",
      "Epoch 108/150\n",
      "12/12 [==============================] - 0s 3ms/step - loss: 0.0117 - mse: 0.0117 - mae: 0.0811 - val_loss: 0.0196 - val_mse: 0.0196 - val_mae: 0.0951\n",
      "Epoch 109/150\n",
      "12/12 [==============================] - 0s 3ms/step - loss: 0.0117 - mse: 0.0117 - mae: 0.0814 - val_loss: 0.0200 - val_mse: 0.0200 - val_mae: 0.0950\n",
      "Epoch 110/150\n",
      "12/12 [==============================] - 0s 3ms/step - loss: 0.0117 - mse: 0.0117 - mae: 0.0803 - val_loss: 0.0194 - val_mse: 0.0194 - val_mae: 0.0956\n",
      "Epoch 111/150\n",
      "12/12 [==============================] - 0s 3ms/step - loss: 0.0117 - mse: 0.0117 - mae: 0.0802 - val_loss: 0.0194 - val_mse: 0.0194 - val_mae: 0.0961\n",
      "Epoch 112/150\n",
      "12/12 [==============================] - 0s 3ms/step - loss: 0.0118 - mse: 0.0118 - mae: 0.0816 - val_loss: 0.0193 - val_mse: 0.0193 - val_mae: 0.0946\n",
      "Epoch 113/150\n",
      "12/12 [==============================] - 0s 3ms/step - loss: 0.0117 - mse: 0.0117 - mae: 0.0820 - val_loss: 0.0198 - val_mse: 0.0198 - val_mae: 0.0945\n",
      "Epoch 114/150\n",
      "12/12 [==============================] - 0s 2ms/step - loss: 0.0117 - mse: 0.0117 - mae: 0.0802 - val_loss: 0.0194 - val_mse: 0.0194 - val_mae: 0.0953\n",
      "Epoch 115/150\n",
      "12/12 [==============================] - 0s 3ms/step - loss: 0.0115 - mse: 0.0115 - mae: 0.0805 - val_loss: 0.0200 - val_mse: 0.0200 - val_mae: 0.0946\n",
      "Epoch 116/150\n",
      "12/12 [==============================] - 0s 3ms/step - loss: 0.0118 - mse: 0.0118 - mae: 0.0802 - val_loss: 0.0193 - val_mse: 0.0193 - val_mae: 0.0966\n",
      "Epoch 117/150\n",
      "12/12 [==============================] - 0s 3ms/step - loss: 0.0115 - mse: 0.0115 - mae: 0.0808 - val_loss: 0.0198 - val_mse: 0.0198 - val_mae: 0.0942\n",
      "Epoch 118/150\n",
      "12/12 [==============================] - 0s 3ms/step - loss: 0.0115 - mse: 0.0115 - mae: 0.0796 - val_loss: 0.0192 - val_mse: 0.0192 - val_mae: 0.0957\n",
      "Epoch 119/150\n",
      "12/12 [==============================] - 0s 3ms/step - loss: 0.0115 - mse: 0.0115 - mae: 0.0806 - val_loss: 0.0201 - val_mse: 0.0201 - val_mae: 0.0944\n",
      "Epoch 120/150\n",
      "12/12 [==============================] - 0s 3ms/step - loss: 0.0115 - mse: 0.0115 - mae: 0.0799 - val_loss: 0.0191 - val_mse: 0.0191 - val_mae: 0.0950\n",
      "Epoch 121/150\n",
      "12/12 [==============================] - 0s 2ms/step - loss: 0.0115 - mse: 0.0115 - mae: 0.0801 - val_loss: 0.0193 - val_mse: 0.0193 - val_mae: 0.0942\n",
      "Epoch 122/150\n",
      "12/12 [==============================] - 0s 3ms/step - loss: 0.0114 - mse: 0.0114 - mae: 0.0793 - val_loss: 0.0193 - val_mse: 0.0193 - val_mae: 0.0942\n",
      "Epoch 123/150\n",
      "12/12 [==============================] - 0s 2ms/step - loss: 0.0115 - mse: 0.0115 - mae: 0.0797 - val_loss: 0.0194 - val_mse: 0.0194 - val_mae: 0.0939\n",
      "Epoch 124/150\n",
      "12/12 [==============================] - 0s 3ms/step - loss: 0.0114 - mse: 0.0114 - mae: 0.0797 - val_loss: 0.0192 - val_mse: 0.0192 - val_mae: 0.0945\n",
      "Epoch 125/150\n",
      "12/12 [==============================] - 0s 2ms/step - loss: 0.0114 - mse: 0.0114 - mae: 0.0792 - val_loss: 0.0192 - val_mse: 0.0192 - val_mae: 0.0940\n",
      "Epoch 126/150\n",
      "12/12 [==============================] - 0s 2ms/step - loss: 0.0114 - mse: 0.0114 - mae: 0.0798 - val_loss: 0.0191 - val_mse: 0.0191 - val_mae: 0.0944\n",
      "Epoch 127/150\n",
      "12/12 [==============================] - 0s 3ms/step - loss: 0.0114 - mse: 0.0114 - mae: 0.0793 - val_loss: 0.0197 - val_mse: 0.0197 - val_mae: 0.0938\n",
      "Epoch 128/150\n",
      "12/12 [==============================] - 0s 3ms/step - loss: 0.0114 - mse: 0.0114 - mae: 0.0794 - val_loss: 0.0190 - val_mse: 0.0190 - val_mae: 0.0939\n",
      "Epoch 129/150\n",
      "12/12 [==============================] - 0s 3ms/step - loss: 0.0114 - mse: 0.0114 - mae: 0.0798 - val_loss: 0.0194 - val_mse: 0.0194 - val_mae: 0.0936\n",
      "Epoch 130/150\n",
      "12/12 [==============================] - 0s 3ms/step - loss: 0.0114 - mse: 0.0114 - mae: 0.0788 - val_loss: 0.0190 - val_mse: 0.0190 - val_mae: 0.0947\n",
      "Epoch 131/150\n",
      "12/12 [==============================] - 0s 3ms/step - loss: 0.0116 - mse: 0.0116 - mae: 0.0804 - val_loss: 0.0193 - val_mse: 0.0193 - val_mae: 0.0937\n",
      "Epoch 132/150\n",
      "12/12 [==============================] - 0s 3ms/step - loss: 0.0115 - mse: 0.0115 - mae: 0.0808 - val_loss: 0.0196 - val_mse: 0.0196 - val_mae: 0.0937\n",
      "Epoch 133/150\n",
      "12/12 [==============================] - 0s 2ms/step - loss: 0.0114 - mse: 0.0114 - mae: 0.0789 - val_loss: 0.0189 - val_mse: 0.0189 - val_mae: 0.0936\n",
      "Epoch 134/150\n",
      "12/12 [==============================] - 0s 3ms/step - loss: 0.0113 - mse: 0.0113 - mae: 0.0795 - val_loss: 0.0192 - val_mse: 0.0192 - val_mae: 0.0934\n",
      "Epoch 135/150\n",
      "12/12 [==============================] - 0s 3ms/step - loss: 0.0113 - mse: 0.0113 - mae: 0.0794 - val_loss: 0.0192 - val_mse: 0.0192 - val_mae: 0.0932\n",
      "Epoch 136/150\n",
      "12/12 [==============================] - 0s 3ms/step - loss: 0.0114 - mse: 0.0114 - mae: 0.0794 - val_loss: 0.0193 - val_mse: 0.0193 - val_mae: 0.0934\n",
      "Epoch 137/150\n",
      "12/12 [==============================] - 0s 3ms/step - loss: 0.0114 - mse: 0.0114 - mae: 0.0791 - val_loss: 0.0189 - val_mse: 0.0189 - val_mae: 0.0940\n",
      "Epoch 138/150\n",
      "12/12 [==============================] - 0s 3ms/step - loss: 0.0112 - mse: 0.0112 - mae: 0.0786 - val_loss: 0.0191 - val_mse: 0.0191 - val_mae: 0.0933\n",
      "Epoch 139/150\n",
      "12/12 [==============================] - 0s 3ms/step - loss: 0.0112 - mse: 0.0112 - mae: 0.0786 - val_loss: 0.0189 - val_mse: 0.0189 - val_mae: 0.0941\n",
      "Epoch 140/150\n",
      "12/12 [==============================] - 0s 3ms/step - loss: 0.0113 - mse: 0.0113 - mae: 0.0788 - val_loss: 0.0189 - val_mse: 0.0189 - val_mae: 0.0941\n",
      "Epoch 141/150\n",
      "12/12 [==============================] - 0s 3ms/step - loss: 0.0112 - mse: 0.0112 - mae: 0.0798 - val_loss: 0.0196 - val_mse: 0.0196 - val_mae: 0.0934\n",
      "Epoch 142/150\n",
      "12/12 [==============================] - 0s 3ms/step - loss: 0.0114 - mse: 0.0114 - mae: 0.0789 - val_loss: 0.0190 - val_mse: 0.0190 - val_mae: 0.0934\n",
      "Epoch 143/150\n",
      "12/12 [==============================] - 0s 3ms/step - loss: 0.0112 - mse: 0.0112 - mae: 0.0781 - val_loss: 0.0192 - val_mse: 0.0192 - val_mae: 0.0936\n",
      "Epoch 144/150\n",
      "12/12 [==============================] - 0s 3ms/step - loss: 0.0112 - mse: 0.0112 - mae: 0.0781 - val_loss: 0.0189 - val_mse: 0.0189 - val_mae: 0.0939\n",
      "Epoch 145/150\n",
      "12/12 [==============================] - 0s 3ms/step - loss: 0.0112 - mse: 0.0112 - mae: 0.0786 - val_loss: 0.0189 - val_mse: 0.0189 - val_mae: 0.0929\n",
      "Epoch 146/150\n",
      "12/12 [==============================] - 0s 4ms/step - loss: 0.0111 - mse: 0.0111 - mae: 0.0786 - val_loss: 0.0189 - val_mse: 0.0189 - val_mae: 0.0930\n",
      "Epoch 147/150\n",
      "12/12 [==============================] - 0s 3ms/step - loss: 0.0111 - mse: 0.0111 - mae: 0.0781 - val_loss: 0.0190 - val_mse: 0.0190 - val_mae: 0.0931\n",
      "Epoch 148/150\n",
      "12/12 [==============================] - 0s 3ms/step - loss: 0.0111 - mse: 0.0111 - mae: 0.0782 - val_loss: 0.0188 - val_mse: 0.0188 - val_mae: 0.0937\n",
      "Epoch 149/150\n",
      "12/12 [==============================] - 0s 3ms/step - loss: 0.0111 - mse: 0.0111 - mae: 0.0782 - val_loss: 0.0195 - val_mse: 0.0195 - val_mae: 0.0931\n",
      "Epoch 150/150\n",
      "12/12 [==============================] - 0s 3ms/step - loss: 0.0112 - mse: 0.0112 - mae: 0.0782 - val_loss: 0.0188 - val_mse: 0.0188 - val_mae: 0.0934\n"
     ]
    }
   ],
   "source": [
    "history = model.fit(X_train, y_train, epochs=150, batch_size=50, verbose=1, validation_split=0.2)"
   ]
  },
  {
   "cell_type": "markdown",
   "metadata": {},
   "source": [
    "Se visualiza la gráfica de función de pérdida"
   ]
  },
  {
   "cell_type": "code",
   "execution_count": 9,
   "metadata": {
    "scrolled": true
   },
   "outputs": [
    {
     "name": "stdout",
     "output_type": "stream",
     "text": [
      "dict_keys(['loss', 'mse', 'mae', 'val_loss', 'val_mse', 'val_mae'])\n"
     ]
    },
    {
     "data": {
      "image/png": "[encoded data removed]",
      "text/plain": [
       "<Figure size 432x288 with 1 Axes>"
      ]
     },
     "metadata": {
      "needs_background": "light"
     },
     "output_type": "display_data"
    }
   ],
   "source": [
    "print(history.history.keys())\n",
    "# \"Loss\"\n",
    "plt.plot(history.history['loss'])\n",
    "plt.plot(history.history['val_loss'])\n",
    "plt.title('model loss')\n",
    "plt.ylabel('loss')\n",
    "plt.xlabel('epoch')\n",
    "plt.legend(['train', 'validation'], loc='upper left')\n",
    "plt.show()"
   ]
  },
  {
   "cell_type": "markdown",
   "metadata": {},
   "source": [
    "## Predicción"
   ]
  },
  {
   "cell_type": "markdown",
   "metadata": {},
   "source": [
    "Una predicción del modelo entrenado para probrar nuestro modelo con un nuevo dato"
   ]
  },
  {
   "cell_type": "code",
   "execution_count": 10,
   "metadata": {},
   "outputs": [],
   "source": [
    "Xnew = np.array([[40, 0, 26, 9000, 8000]])"
   ]
  },
  {
   "cell_type": "code",
   "execution_count": 11,
   "metadata": {},
   "outputs": [
    {
     "name": "stdout",
     "output_type": "stream",
     "text": [
      "X=[  40.    0.   26. 9000. 8000.], Predicted=[14143.134]\n"
     ]
    }
   ],
   "source": [
    "Xnew = np.array([[40, 0, 26, 9000, 8000]])\n",
    "Xnew= scaler_x.transform(Xnew)\n",
    "ynew= model.predict(Xnew)\n",
    "#invert normalize\n",
    "ynew = scaler_y.inverse_transform(ynew) \n",
    "Xnew = scaler_x.inverse_transform(Xnew)\n",
    "print(\"X=%s, Predicted=%s\" % (Xnew[0], ynew[0]))"
   ]
  }
 ],
 "metadata": {
  "kernelspec": {
   "display_name": "Python 3",
   "language": "python",
   "name": "python3"
  },
  "language_info": {
   "codemirror_mode": {
    "name": "ipython",
    "version": 3
   },
   "file_extension": ".py",
   "mimetype": "text/x-python",
   "name": "python",
   "nbconvert_exporter": "python",
   "pygments_lexer": "ipython3",
   "version": "3.7.7"
  }
 },
 "nbformat": 4,
 "nbformat_minor": 4
}
